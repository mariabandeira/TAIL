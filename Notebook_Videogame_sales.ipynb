{
  "nbformat": 4,
  "nbformat_minor": 0,
  "metadata": {
    "colab": {
      "provenance": []
    },
    "kernelspec": {
      "name": "python3",
      "display_name": "Python 3"
    },
    "language_info": {
      "name": "python"
    }
  },
  "cells": [
    {
      "cell_type": "markdown",
      "source": [
        "\n",
        "<a href=\"TAIL\"><img src=\"https://i.imgur.com/GRTE0OG.png\" width=\"200\" title=\"Tail Logo\" /></a>\n",
        "\n",
        "# <font color =\"#00b8ff\">Aválise de Vendas de Videogame</font>\n",
        "\n",
        "### O seguinte projeto tem por objetivo treinar a manipulação básica de algumas bibliotecas do Python, tais como Pandas, Matplotlib e Seaborn.\n",
        "\n",
        "#####Equipe: Marília, Jonas, Gisele, Hermano, João Victor, Maria Eduarda e Raffael."
      ],
      "metadata": {
        "id": "bWTonhGJKwDP"
      }
    },
    {
      "cell_type": "code",
      "execution_count": null,
      "metadata": {
        "id": "GsCc2112KjcQ"
      },
      "outputs": [],
      "source": [
        "# Importando as bibliotecas utilizadas\n",
        "\n",
        "import pandas as pd\n",
        "import matplotlib.pyplot as plt\n",
        "from pandas import DataFrame\n",
        "from sklearn.linear_model import LinearRegression"
      ]
    },
    {
      "cell_type": "code",
      "source": [
        "# Importando csv do link https://raw.githubusercontent.com/mariliabrito/videogamesales/main/Video_Games.csv\n",
        "gameset = pd.read_csv(\"https://raw.githubusercontent.com/mariliabrito/videogamesales/main/Video_Games.csv\")"
      ],
      "metadata": {
        "id": "4JA3h3jiLiWi"
      },
      "execution_count": null,
      "outputs": []
    },
    {
      "cell_type": "markdown",
      "source": [
        "# <font color =\"#00b8ff\">Parte 1 - Introdução do Dataset </font>\n",
        "\n",
        "\n"
      ],
      "metadata": {
        "id": "F9AEuUwCOsqY"
      }
    },
    {
      "cell_type": "code",
      "source": [
        "# Verificando cabeçalho\n",
        "gameset.head()"
      ],
      "metadata": {
        "id": "cymq8bFfOVOp",
        "colab": {
          "base_uri": "https://localhost:8080/",
          "height": 206
        },
        "outputId": "245c003c-25a8-4376-ee9e-f8991b51dab5"
      },
      "execution_count": null,
      "outputs": [
        {
          "output_type": "execute_result",
          "data": {
            "text/plain": [
              "                       Name Platform  Year_of_Release         Genre Publisher  \\\n",
              "0                Wii Sports      Wii           2006.0        Sports  Nintendo   \n",
              "1         Super Mario Bros.      NES           1985.0      Platform  Nintendo   \n",
              "2            Mario Kart Wii      Wii           2008.0        Racing  Nintendo   \n",
              "3         Wii Sports Resort      Wii           2009.0        Sports  Nintendo   \n",
              "4  Pokemon Red/Pokemon Blue       GB           1996.0  Role-Playing  Nintendo   \n",
              "\n",
              "   NA_Sales  EU_Sales  JP_Sales  Other_Sales  Global_Sales  Critic_Score  \\\n",
              "0     41.36     28.96      3.77         8.45         82.53          76.0   \n",
              "1     29.08      3.58      6.81         0.77         40.24           NaN   \n",
              "2     15.68     12.76      3.79         3.29         35.52          82.0   \n",
              "3     15.61     10.93      3.28         2.95         32.77          80.0   \n",
              "4     11.27      8.89     10.22         1.00         31.37           NaN   \n",
              "\n",
              "   Critic_Count User_Score  User_Count Developer Rating  \n",
              "0          51.0          8       322.0  Nintendo      E  \n",
              "1           NaN        NaN         NaN       NaN    NaN  \n",
              "2          73.0        8.3       709.0  Nintendo      E  \n",
              "3          73.0          8       192.0  Nintendo      E  \n",
              "4           NaN        NaN         NaN       NaN    NaN  "
            ],
            "text/html": [
              "\n",
              "  <div id=\"df-3eb188f3-ef4b-4e9a-8c3d-ccdea6370551\">\n",
              "    <div class=\"colab-df-container\">\n",
              "      <div>\n",
              "<style scoped>\n",
              "    .dataframe tbody tr th:only-of-type {\n",
              "        vertical-align: middle;\n",
              "    }\n",
              "\n",
              "    .dataframe tbody tr th {\n",
              "        vertical-align: top;\n",
              "    }\n",
              "\n",
              "    .dataframe thead th {\n",
              "        text-align: right;\n",
              "    }\n",
              "</style>\n",
              "<table border=\"1\" class=\"dataframe\">\n",
              "  <thead>\n",
              "    <tr style=\"text-align: right;\">\n",
              "      <th></th>\n",
              "      <th>Name</th>\n",
              "      <th>Platform</th>\n",
              "      <th>Year_of_Release</th>\n",
              "      <th>Genre</th>\n",
              "      <th>Publisher</th>\n",
              "      <th>NA_Sales</th>\n",
              "      <th>EU_Sales</th>\n",
              "      <th>JP_Sales</th>\n",
              "      <th>Other_Sales</th>\n",
              "      <th>Global_Sales</th>\n",
              "      <th>Critic_Score</th>\n",
              "      <th>Critic_Count</th>\n",
              "      <th>User_Score</th>\n",
              "      <th>User_Count</th>\n",
              "      <th>Developer</th>\n",
              "      <th>Rating</th>\n",
              "    </tr>\n",
              "  </thead>\n",
              "  <tbody>\n",
              "    <tr>\n",
              "      <th>0</th>\n",
              "      <td>Wii Sports</td>\n",
              "      <td>Wii</td>\n",
              "      <td>2006.0</td>\n",
              "      <td>Sports</td>\n",
              "      <td>Nintendo</td>\n",
              "      <td>41.36</td>\n",
              "      <td>28.96</td>\n",
              "      <td>3.77</td>\n",
              "      <td>8.45</td>\n",
              "      <td>82.53</td>\n",
              "      <td>76.0</td>\n",
              "      <td>51.0</td>\n",
              "      <td>8</td>\n",
              "      <td>322.0</td>\n",
              "      <td>Nintendo</td>\n",
              "      <td>E</td>\n",
              "    </tr>\n",
              "    <tr>\n",
              "      <th>1</th>\n",
              "      <td>Super Mario Bros.</td>\n",
              "      <td>NES</td>\n",
              "      <td>1985.0</td>\n",
              "      <td>Platform</td>\n",
              "      <td>Nintendo</td>\n",
              "      <td>29.08</td>\n",
              "      <td>3.58</td>\n",
              "      <td>6.81</td>\n",
              "      <td>0.77</td>\n",
              "      <td>40.24</td>\n",
              "      <td>NaN</td>\n",
              "      <td>NaN</td>\n",
              "      <td>NaN</td>\n",
              "      <td>NaN</td>\n",
              "      <td>NaN</td>\n",
              "      <td>NaN</td>\n",
              "    </tr>\n",
              "    <tr>\n",
              "      <th>2</th>\n",
              "      <td>Mario Kart Wii</td>\n",
              "      <td>Wii</td>\n",
              "      <td>2008.0</td>\n",
              "      <td>Racing</td>\n",
              "      <td>Nintendo</td>\n",
              "      <td>15.68</td>\n",
              "      <td>12.76</td>\n",
              "      <td>3.79</td>\n",
              "      <td>3.29</td>\n",
              "      <td>35.52</td>\n",
              "      <td>82.0</td>\n",
              "      <td>73.0</td>\n",
              "      <td>8.3</td>\n",
              "      <td>709.0</td>\n",
              "      <td>Nintendo</td>\n",
              "      <td>E</td>\n",
              "    </tr>\n",
              "    <tr>\n",
              "      <th>3</th>\n",
              "      <td>Wii Sports Resort</td>\n",
              "      <td>Wii</td>\n",
              "      <td>2009.0</td>\n",
              "      <td>Sports</td>\n",
              "      <td>Nintendo</td>\n",
              "      <td>15.61</td>\n",
              "      <td>10.93</td>\n",
              "      <td>3.28</td>\n",
              "      <td>2.95</td>\n",
              "      <td>32.77</td>\n",
              "      <td>80.0</td>\n",
              "      <td>73.0</td>\n",
              "      <td>8</td>\n",
              "      <td>192.0</td>\n",
              "      <td>Nintendo</td>\n",
              "      <td>E</td>\n",
              "    </tr>\n",
              "    <tr>\n",
              "      <th>4</th>\n",
              "      <td>Pokemon Red/Pokemon Blue</td>\n",
              "      <td>GB</td>\n",
              "      <td>1996.0</td>\n",
              "      <td>Role-Playing</td>\n",
              "      <td>Nintendo</td>\n",
              "      <td>11.27</td>\n",
              "      <td>8.89</td>\n",
              "      <td>10.22</td>\n",
              "      <td>1.00</td>\n",
              "      <td>31.37</td>\n",
              "      <td>NaN</td>\n",
              "      <td>NaN</td>\n",
              "      <td>NaN</td>\n",
              "      <td>NaN</td>\n",
              "      <td>NaN</td>\n",
              "      <td>NaN</td>\n",
              "    </tr>\n",
              "  </tbody>\n",
              "</table>\n",
              "</div>\n",
              "      <button class=\"colab-df-convert\" onclick=\"convertToInteractive('df-3eb188f3-ef4b-4e9a-8c3d-ccdea6370551')\"\n",
              "              title=\"Convert this dataframe to an interactive table.\"\n",
              "              style=\"display:none;\">\n",
              "        \n",
              "  <svg xmlns=\"http://www.w3.org/2000/svg\" height=\"24px\"viewBox=\"0 0 24 24\"\n",
              "       width=\"24px\">\n",
              "    <path d=\"M0 0h24v24H0V0z\" fill=\"none\"/>\n",
              "    <path d=\"M18.56 5.44l.94 2.06.94-2.06 2.06-.94-2.06-.94-.94-2.06-.94 2.06-2.06.94zm-11 1L8.5 8.5l.94-2.06 2.06-.94-2.06-.94L8.5 2.5l-.94 2.06-2.06.94zm10 10l.94 2.06.94-2.06 2.06-.94-2.06-.94-.94-2.06-.94 2.06-2.06.94z\"/><path d=\"M17.41 7.96l-1.37-1.37c-.4-.4-.92-.59-1.43-.59-.52 0-1.04.2-1.43.59L10.3 9.45l-7.72 7.72c-.78.78-.78 2.05 0 2.83L4 21.41c.39.39.9.59 1.41.59.51 0 1.02-.2 1.41-.59l7.78-7.78 2.81-2.81c.8-.78.8-2.07 0-2.86zM5.41 20L4 18.59l7.72-7.72 1.47 1.35L5.41 20z\"/>\n",
              "  </svg>\n",
              "      </button>\n",
              "      \n",
              "  <style>\n",
              "    .colab-df-container {\n",
              "      display:flex;\n",
              "      flex-wrap:wrap;\n",
              "      gap: 12px;\n",
              "    }\n",
              "\n",
              "    .colab-df-convert {\n",
              "      background-color: #E8F0FE;\n",
              "      border: none;\n",
              "      border-radius: 50%;\n",
              "      cursor: pointer;\n",
              "      display: none;\n",
              "      fill: #1967D2;\n",
              "      height: 32px;\n",
              "      padding: 0 0 0 0;\n",
              "      width: 32px;\n",
              "    }\n",
              "\n",
              "    .colab-df-convert:hover {\n",
              "      background-color: #E2EBFA;\n",
              "      box-shadow: 0px 1px 2px rgba(60, 64, 67, 0.3), 0px 1px 3px 1px rgba(60, 64, 67, 0.15);\n",
              "      fill: #174EA6;\n",
              "    }\n",
              "\n",
              "    [theme=dark] .colab-df-convert {\n",
              "      background-color: #3B4455;\n",
              "      fill: #D2E3FC;\n",
              "    }\n",
              "\n",
              "    [theme=dark] .colab-df-convert:hover {\n",
              "      background-color: #434B5C;\n",
              "      box-shadow: 0px 1px 3px 1px rgba(0, 0, 0, 0.15);\n",
              "      filter: drop-shadow(0px 1px 2px rgba(0, 0, 0, 0.3));\n",
              "      fill: #FFFFFF;\n",
              "    }\n",
              "  </style>\n",
              "\n",
              "      <script>\n",
              "        const buttonEl =\n",
              "          document.querySelector('#df-3eb188f3-ef4b-4e9a-8c3d-ccdea6370551 button.colab-df-convert');\n",
              "        buttonEl.style.display =\n",
              "          google.colab.kernel.accessAllowed ? 'block' : 'none';\n",
              "\n",
              "        async function convertToInteractive(key) {\n",
              "          const element = document.querySelector('#df-3eb188f3-ef4b-4e9a-8c3d-ccdea6370551');\n",
              "          const dataTable =\n",
              "            await google.colab.kernel.invokeFunction('convertToInteractive',\n",
              "                                                     [key], {});\n",
              "          if (!dataTable) return;\n",
              "\n",
              "          const docLinkHtml = 'Like what you see? Visit the ' +\n",
              "            '<a target=\"_blank\" href=https://colab.research.google.com/notebooks/data_table.ipynb>data table notebook</a>'\n",
              "            + ' to learn more about interactive tables.';\n",
              "          element.innerHTML = '';\n",
              "          dataTable['output_type'] = 'display_data';\n",
              "          await google.colab.output.renderOutput(dataTable, element);\n",
              "          const docLink = document.createElement('div');\n",
              "          docLink.innerHTML = docLinkHtml;\n",
              "          element.appendChild(docLink);\n",
              "        }\n",
              "      </script>\n",
              "    </div>\n",
              "  </div>\n",
              "  "
            ]
          },
          "metadata": {},
          "execution_count": 133
        }
      ]
    },
    {
      "cell_type": "markdown",
      "source": [
        "### Descrição das variáveis\n",
        "\n",
        "Name:\n",
        "\n",
        "Platform:\n",
        "\n",
        "Year_of_Release:\n",
        "\n",
        "Genre:\n",
        "\n",
        "Publisher:\n",
        "\n",
        "NA_Sales:\n",
        "\n",
        "EU_Sales:\n",
        "\n",
        "JP_Sales:\n",
        "\n",
        "Other_Sales:\n",
        "\n",
        "Global_Sales:\n",
        "\n",
        "Critic_Score:\n",
        "\n",
        "Critic_Count:\n",
        "\n",
        "User_Score:\n",
        "\n",
        "User_Count:\n",
        "\n",
        "Developer:\n",
        "\n",
        "Rating:"
      ],
      "metadata": {
        "id": "gJO3QBu_eVdw"
      }
    },
    {
      "cell_type": "code",
      "source": [
        "#Verificando informações\n",
        "gameset.info()"
      ],
      "metadata": {
        "id": "dzKeIjVAObA4",
        "colab": {
          "base_uri": "https://localhost:8080/"
        },
        "outputId": "be045482-3d04-42e2-9f08-21c5e4c4c09a"
      },
      "execution_count": null,
      "outputs": [
        {
          "output_type": "stream",
          "name": "stdout",
          "text": [
            "<class 'pandas.core.frame.DataFrame'>\n",
            "RangeIndex: 16719 entries, 0 to 16718\n",
            "Data columns (total 16 columns):\n",
            " #   Column           Non-Null Count  Dtype  \n",
            "---  ------           --------------  -----  \n",
            " 0   Name             16717 non-null  object \n",
            " 1   Platform         16719 non-null  object \n",
            " 2   Year_of_Release  16450 non-null  float64\n",
            " 3   Genre            16717 non-null  object \n",
            " 4   Publisher        16665 non-null  object \n",
            " 5   NA_Sales         16719 non-null  float64\n",
            " 6   EU_Sales         16719 non-null  float64\n",
            " 7   JP_Sales         16719 non-null  float64\n",
            " 8   Other_Sales      16719 non-null  float64\n",
            " 9   Global_Sales     16719 non-null  float64\n",
            " 10  Critic_Score     8137 non-null   float64\n",
            " 11  Critic_Count     8137 non-null   float64\n",
            " 12  User_Score       10015 non-null  object \n",
            " 13  User_Count       7590 non-null   float64\n",
            " 14  Developer        10096 non-null  object \n",
            " 15  Rating           9950 non-null   object \n",
            "dtypes: float64(9), object(7)\n",
            "memory usage: 2.0+ MB\n"
          ]
        }
      ]
    },
    {
      "cell_type": "code",
      "source": [
        "# Verificando estatística descritiva\n",
        "\n",
        "gameset.describe()"
      ],
      "metadata": {
        "id": "3NcCJx7rQoiq",
        "colab": {
          "base_uri": "https://localhost:8080/",
          "height": 300
        },
        "outputId": "c3b05131-e80a-42ef-fb83-a27d637fcb4d"
      },
      "execution_count": null,
      "outputs": [
        {
          "output_type": "execute_result",
          "data": {
            "text/plain": [
              "       Year_of_Release      NA_Sales      EU_Sales      JP_Sales  \\\n",
              "count     16450.000000  16719.000000  16719.000000  16719.000000   \n",
              "mean       2006.487356      0.263330      0.145025      0.077602   \n",
              "std           5.878995      0.813514      0.503283      0.308818   \n",
              "min        1980.000000      0.000000      0.000000      0.000000   \n",
              "25%        2003.000000      0.000000      0.000000      0.000000   \n",
              "50%        2007.000000      0.080000      0.020000      0.000000   \n",
              "75%        2010.000000      0.240000      0.110000      0.040000   \n",
              "max        2020.000000     41.360000     28.960000     10.220000   \n",
              "\n",
              "        Other_Sales  Global_Sales  Critic_Score  Critic_Count    User_Count  \n",
              "count  16719.000000  16719.000000   8137.000000   8137.000000   7590.000000  \n",
              "mean       0.047332      0.533543     68.967679     26.360821    162.229908  \n",
              "std        0.186710      1.547935     13.938165     18.980495    561.282326  \n",
              "min        0.000000      0.010000     13.000000      3.000000      4.000000  \n",
              "25%        0.000000      0.060000     60.000000     12.000000     10.000000  \n",
              "50%        0.010000      0.170000     71.000000     21.000000     24.000000  \n",
              "75%        0.030000      0.470000     79.000000     36.000000     81.000000  \n",
              "max       10.570000     82.530000     98.000000    113.000000  10665.000000  "
            ],
            "text/html": [
              "\n",
              "  <div id=\"df-6dbad02a-5285-4922-a169-1cb7ddde86d7\">\n",
              "    <div class=\"colab-df-container\">\n",
              "      <div>\n",
              "<style scoped>\n",
              "    .dataframe tbody tr th:only-of-type {\n",
              "        vertical-align: middle;\n",
              "    }\n",
              "\n",
              "    .dataframe tbody tr th {\n",
              "        vertical-align: top;\n",
              "    }\n",
              "\n",
              "    .dataframe thead th {\n",
              "        text-align: right;\n",
              "    }\n",
              "</style>\n",
              "<table border=\"1\" class=\"dataframe\">\n",
              "  <thead>\n",
              "    <tr style=\"text-align: right;\">\n",
              "      <th></th>\n",
              "      <th>Year_of_Release</th>\n",
              "      <th>NA_Sales</th>\n",
              "      <th>EU_Sales</th>\n",
              "      <th>JP_Sales</th>\n",
              "      <th>Other_Sales</th>\n",
              "      <th>Global_Sales</th>\n",
              "      <th>Critic_Score</th>\n",
              "      <th>Critic_Count</th>\n",
              "      <th>User_Count</th>\n",
              "    </tr>\n",
              "  </thead>\n",
              "  <tbody>\n",
              "    <tr>\n",
              "      <th>count</th>\n",
              "      <td>16450.000000</td>\n",
              "      <td>16719.000000</td>\n",
              "      <td>16719.000000</td>\n",
              "      <td>16719.000000</td>\n",
              "      <td>16719.000000</td>\n",
              "      <td>16719.000000</td>\n",
              "      <td>8137.000000</td>\n",
              "      <td>8137.000000</td>\n",
              "      <td>7590.000000</td>\n",
              "    </tr>\n",
              "    <tr>\n",
              "      <th>mean</th>\n",
              "      <td>2006.487356</td>\n",
              "      <td>0.263330</td>\n",
              "      <td>0.145025</td>\n",
              "      <td>0.077602</td>\n",
              "      <td>0.047332</td>\n",
              "      <td>0.533543</td>\n",
              "      <td>68.967679</td>\n",
              "      <td>26.360821</td>\n",
              "      <td>162.229908</td>\n",
              "    </tr>\n",
              "    <tr>\n",
              "      <th>std</th>\n",
              "      <td>5.878995</td>\n",
              "      <td>0.813514</td>\n",
              "      <td>0.503283</td>\n",
              "      <td>0.308818</td>\n",
              "      <td>0.186710</td>\n",
              "      <td>1.547935</td>\n",
              "      <td>13.938165</td>\n",
              "      <td>18.980495</td>\n",
              "      <td>561.282326</td>\n",
              "    </tr>\n",
              "    <tr>\n",
              "      <th>min</th>\n",
              "      <td>1980.000000</td>\n",
              "      <td>0.000000</td>\n",
              "      <td>0.000000</td>\n",
              "      <td>0.000000</td>\n",
              "      <td>0.000000</td>\n",
              "      <td>0.010000</td>\n",
              "      <td>13.000000</td>\n",
              "      <td>3.000000</td>\n",
              "      <td>4.000000</td>\n",
              "    </tr>\n",
              "    <tr>\n",
              "      <th>25%</th>\n",
              "      <td>2003.000000</td>\n",
              "      <td>0.000000</td>\n",
              "      <td>0.000000</td>\n",
              "      <td>0.000000</td>\n",
              "      <td>0.000000</td>\n",
              "      <td>0.060000</td>\n",
              "      <td>60.000000</td>\n",
              "      <td>12.000000</td>\n",
              "      <td>10.000000</td>\n",
              "    </tr>\n",
              "    <tr>\n",
              "      <th>50%</th>\n",
              "      <td>2007.000000</td>\n",
              "      <td>0.080000</td>\n",
              "      <td>0.020000</td>\n",
              "      <td>0.000000</td>\n",
              "      <td>0.010000</td>\n",
              "      <td>0.170000</td>\n",
              "      <td>71.000000</td>\n",
              "      <td>21.000000</td>\n",
              "      <td>24.000000</td>\n",
              "    </tr>\n",
              "    <tr>\n",
              "      <th>75%</th>\n",
              "      <td>2010.000000</td>\n",
              "      <td>0.240000</td>\n",
              "      <td>0.110000</td>\n",
              "      <td>0.040000</td>\n",
              "      <td>0.030000</td>\n",
              "      <td>0.470000</td>\n",
              "      <td>79.000000</td>\n",
              "      <td>36.000000</td>\n",
              "      <td>81.000000</td>\n",
              "    </tr>\n",
              "    <tr>\n",
              "      <th>max</th>\n",
              "      <td>2020.000000</td>\n",
              "      <td>41.360000</td>\n",
              "      <td>28.960000</td>\n",
              "      <td>10.220000</td>\n",
              "      <td>10.570000</td>\n",
              "      <td>82.530000</td>\n",
              "      <td>98.000000</td>\n",
              "      <td>113.000000</td>\n",
              "      <td>10665.000000</td>\n",
              "    </tr>\n",
              "  </tbody>\n",
              "</table>\n",
              "</div>\n",
              "      <button class=\"colab-df-convert\" onclick=\"convertToInteractive('df-6dbad02a-5285-4922-a169-1cb7ddde86d7')\"\n",
              "              title=\"Convert this dataframe to an interactive table.\"\n",
              "              style=\"display:none;\">\n",
              "        \n",
              "  <svg xmlns=\"http://www.w3.org/2000/svg\" height=\"24px\"viewBox=\"0 0 24 24\"\n",
              "       width=\"24px\">\n",
              "    <path d=\"M0 0h24v24H0V0z\" fill=\"none\"/>\n",
              "    <path d=\"M18.56 5.44l.94 2.06.94-2.06 2.06-.94-2.06-.94-.94-2.06-.94 2.06-2.06.94zm-11 1L8.5 8.5l.94-2.06 2.06-.94-2.06-.94L8.5 2.5l-.94 2.06-2.06.94zm10 10l.94 2.06.94-2.06 2.06-.94-2.06-.94-.94-2.06-.94 2.06-2.06.94z\"/><path d=\"M17.41 7.96l-1.37-1.37c-.4-.4-.92-.59-1.43-.59-.52 0-1.04.2-1.43.59L10.3 9.45l-7.72 7.72c-.78.78-.78 2.05 0 2.83L4 21.41c.39.39.9.59 1.41.59.51 0 1.02-.2 1.41-.59l7.78-7.78 2.81-2.81c.8-.78.8-2.07 0-2.86zM5.41 20L4 18.59l7.72-7.72 1.47 1.35L5.41 20z\"/>\n",
              "  </svg>\n",
              "      </button>\n",
              "      \n",
              "  <style>\n",
              "    .colab-df-container {\n",
              "      display:flex;\n",
              "      flex-wrap:wrap;\n",
              "      gap: 12px;\n",
              "    }\n",
              "\n",
              "    .colab-df-convert {\n",
              "      background-color: #E8F0FE;\n",
              "      border: none;\n",
              "      border-radius: 50%;\n",
              "      cursor: pointer;\n",
              "      display: none;\n",
              "      fill: #1967D2;\n",
              "      height: 32px;\n",
              "      padding: 0 0 0 0;\n",
              "      width: 32px;\n",
              "    }\n",
              "\n",
              "    .colab-df-convert:hover {\n",
              "      background-color: #E2EBFA;\n",
              "      box-shadow: 0px 1px 2px rgba(60, 64, 67, 0.3), 0px 1px 3px 1px rgba(60, 64, 67, 0.15);\n",
              "      fill: #174EA6;\n",
              "    }\n",
              "\n",
              "    [theme=dark] .colab-df-convert {\n",
              "      background-color: #3B4455;\n",
              "      fill: #D2E3FC;\n",
              "    }\n",
              "\n",
              "    [theme=dark] .colab-df-convert:hover {\n",
              "      background-color: #434B5C;\n",
              "      box-shadow: 0px 1px 3px 1px rgba(0, 0, 0, 0.15);\n",
              "      filter: drop-shadow(0px 1px 2px rgba(0, 0, 0, 0.3));\n",
              "      fill: #FFFFFF;\n",
              "    }\n",
              "  </style>\n",
              "\n",
              "      <script>\n",
              "        const buttonEl =\n",
              "          document.querySelector('#df-6dbad02a-5285-4922-a169-1cb7ddde86d7 button.colab-df-convert');\n",
              "        buttonEl.style.display =\n",
              "          google.colab.kernel.accessAllowed ? 'block' : 'none';\n",
              "\n",
              "        async function convertToInteractive(key) {\n",
              "          const element = document.querySelector('#df-6dbad02a-5285-4922-a169-1cb7ddde86d7');\n",
              "          const dataTable =\n",
              "            await google.colab.kernel.invokeFunction('convertToInteractive',\n",
              "                                                     [key], {});\n",
              "          if (!dataTable) return;\n",
              "\n",
              "          const docLinkHtml = 'Like what you see? Visit the ' +\n",
              "            '<a target=\"_blank\" href=https://colab.research.google.com/notebooks/data_table.ipynb>data table notebook</a>'\n",
              "            + ' to learn more about interactive tables.';\n",
              "          element.innerHTML = '';\n",
              "          dataTable['output_type'] = 'display_data';\n",
              "          await google.colab.output.renderOutput(dataTable, element);\n",
              "          const docLink = document.createElement('div');\n",
              "          docLink.innerHTML = docLinkHtml;\n",
              "          element.appendChild(docLink);\n",
              "        }\n",
              "      </script>\n",
              "    </div>\n",
              "  </div>\n",
              "  "
            ]
          },
          "metadata": {},
          "execution_count": 135
        }
      ]
    },
    {
      "cell_type": "code",
      "source": [
        "# Verificando value counts na coluna Name\n",
        "\n",
        "gameset['Name'].value_counts()"
      ],
      "metadata": {
        "id": "nbgq89IgP_po",
        "colab": {
          "base_uri": "https://localhost:8080/"
        },
        "outputId": "9d6e52f7-942c-48c2-83fc-23e71db2356b"
      },
      "execution_count": null,
      "outputs": [
        {
          "output_type": "execute_result",
          "data": {
            "text/plain": [
              "Need for Speed: Most Wanted                         12\n",
              "FIFA 14                                              9\n",
              "Ratatouille                                          9\n",
              "LEGO Marvel Super Heroes                             9\n",
              "Madden NFL 07                                        9\n",
              "                                                    ..\n",
              "Jewels of the Tropical Lost Island                   1\n",
              "Sherlock Holmes and the Mystery of Osborne House     1\n",
              "The King of Fighters '95 (CD)                        1\n",
              "Megamind: Mega Team Unite                            1\n",
              "Haitaka no Psychedelica                              1\n",
              "Name: Name, Length: 11562, dtype: int64"
            ]
          },
          "metadata": {},
          "execution_count": 136
        }
      ]
    },
    {
      "cell_type": "code",
      "source": [
        "# Verificando quantos gêneros únicos de game existem com .unique()\n",
        "gameset['Genre'].unique()"
      ],
      "metadata": {
        "id": "2Ue2duuYbJc-",
        "colab": {
          "base_uri": "https://localhost:8080/"
        },
        "outputId": "c190d9d1-e08c-4005-91b7-e8dff88a2987"
      },
      "execution_count": null,
      "outputs": [
        {
          "output_type": "execute_result",
          "data": {
            "text/plain": [
              "array(['Sports', 'Platform', 'Racing', 'Role-Playing', 'Puzzle', 'Misc',\n",
              "       'Shooter', 'Simulation', 'Action', 'Fighting', 'Adventure',\n",
              "       'Strategy', nan], dtype=object)"
            ]
          },
          "metadata": {},
          "execution_count": 137
        }
      ]
    },
    {
      "cell_type": "markdown",
      "source": [
        "# <font color =\"#00b8ff\">Parte 2 - Limpeza </font>"
      ],
      "metadata": {
        "id": "V8cud2V5eK51"
      }
    },
    {
      "cell_type": "code",
      "source": [
        "# Uniformizando cabeçalho, deixe-o em caixa baixa (minúsculo)\n",
        "gameset.columns = gameset.columns.str.lower()\n",
        "gameset.head()"
      ],
      "metadata": {
        "id": "am9lw8Ow6nUR",
        "colab": {
          "base_uri": "https://localhost:8080/",
          "height": 206
        },
        "outputId": "c62fc971-d720-4403-d4fe-567cee07d8f3"
      },
      "execution_count": null,
      "outputs": [
        {
          "output_type": "execute_result",
          "data": {
            "text/plain": [
              "                       name platform  year_of_release         genre publisher  \\\n",
              "0                Wii Sports      Wii           2006.0        Sports  Nintendo   \n",
              "1         Super Mario Bros.      NES           1985.0      Platform  Nintendo   \n",
              "2            Mario Kart Wii      Wii           2008.0        Racing  Nintendo   \n",
              "3         Wii Sports Resort      Wii           2009.0        Sports  Nintendo   \n",
              "4  Pokemon Red/Pokemon Blue       GB           1996.0  Role-Playing  Nintendo   \n",
              "\n",
              "   na_sales  eu_sales  jp_sales  other_sales  global_sales  critic_score  \\\n",
              "0     41.36     28.96      3.77         8.45         82.53          76.0   \n",
              "1     29.08      3.58      6.81         0.77         40.24           NaN   \n",
              "2     15.68     12.76      3.79         3.29         35.52          82.0   \n",
              "3     15.61     10.93      3.28         2.95         32.77          80.0   \n",
              "4     11.27      8.89     10.22         1.00         31.37           NaN   \n",
              "\n",
              "   critic_count user_score  user_count developer rating  \n",
              "0          51.0          8       322.0  Nintendo      E  \n",
              "1           NaN        NaN         NaN       NaN    NaN  \n",
              "2          73.0        8.3       709.0  Nintendo      E  \n",
              "3          73.0          8       192.0  Nintendo      E  \n",
              "4           NaN        NaN         NaN       NaN    NaN  "
            ],
            "text/html": [
              "\n",
              "  <div id=\"df-76052ddc-f187-4d47-8815-44f03fe4d861\">\n",
              "    <div class=\"colab-df-container\">\n",
              "      <div>\n",
              "<style scoped>\n",
              "    .dataframe tbody tr th:only-of-type {\n",
              "        vertical-align: middle;\n",
              "    }\n",
              "\n",
              "    .dataframe tbody tr th {\n",
              "        vertical-align: top;\n",
              "    }\n",
              "\n",
              "    .dataframe thead th {\n",
              "        text-align: right;\n",
              "    }\n",
              "</style>\n",
              "<table border=\"1\" class=\"dataframe\">\n",
              "  <thead>\n",
              "    <tr style=\"text-align: right;\">\n",
              "      <th></th>\n",
              "      <th>name</th>\n",
              "      <th>platform</th>\n",
              "      <th>year_of_release</th>\n",
              "      <th>genre</th>\n",
              "      <th>publisher</th>\n",
              "      <th>na_sales</th>\n",
              "      <th>eu_sales</th>\n",
              "      <th>jp_sales</th>\n",
              "      <th>other_sales</th>\n",
              "      <th>global_sales</th>\n",
              "      <th>critic_score</th>\n",
              "      <th>critic_count</th>\n",
              "      <th>user_score</th>\n",
              "      <th>user_count</th>\n",
              "      <th>developer</th>\n",
              "      <th>rating</th>\n",
              "    </tr>\n",
              "  </thead>\n",
              "  <tbody>\n",
              "    <tr>\n",
              "      <th>0</th>\n",
              "      <td>Wii Sports</td>\n",
              "      <td>Wii</td>\n",
              "      <td>2006.0</td>\n",
              "      <td>Sports</td>\n",
              "      <td>Nintendo</td>\n",
              "      <td>41.36</td>\n",
              "      <td>28.96</td>\n",
              "      <td>3.77</td>\n",
              "      <td>8.45</td>\n",
              "      <td>82.53</td>\n",
              "      <td>76.0</td>\n",
              "      <td>51.0</td>\n",
              "      <td>8</td>\n",
              "      <td>322.0</td>\n",
              "      <td>Nintendo</td>\n",
              "      <td>E</td>\n",
              "    </tr>\n",
              "    <tr>\n",
              "      <th>1</th>\n",
              "      <td>Super Mario Bros.</td>\n",
              "      <td>NES</td>\n",
              "      <td>1985.0</td>\n",
              "      <td>Platform</td>\n",
              "      <td>Nintendo</td>\n",
              "      <td>29.08</td>\n",
              "      <td>3.58</td>\n",
              "      <td>6.81</td>\n",
              "      <td>0.77</td>\n",
              "      <td>40.24</td>\n",
              "      <td>NaN</td>\n",
              "      <td>NaN</td>\n",
              "      <td>NaN</td>\n",
              "      <td>NaN</td>\n",
              "      <td>NaN</td>\n",
              "      <td>NaN</td>\n",
              "    </tr>\n",
              "    <tr>\n",
              "      <th>2</th>\n",
              "      <td>Mario Kart Wii</td>\n",
              "      <td>Wii</td>\n",
              "      <td>2008.0</td>\n",
              "      <td>Racing</td>\n",
              "      <td>Nintendo</td>\n",
              "      <td>15.68</td>\n",
              "      <td>12.76</td>\n",
              "      <td>3.79</td>\n",
              "      <td>3.29</td>\n",
              "      <td>35.52</td>\n",
              "      <td>82.0</td>\n",
              "      <td>73.0</td>\n",
              "      <td>8.3</td>\n",
              "      <td>709.0</td>\n",
              "      <td>Nintendo</td>\n",
              "      <td>E</td>\n",
              "    </tr>\n",
              "    <tr>\n",
              "      <th>3</th>\n",
              "      <td>Wii Sports Resort</td>\n",
              "      <td>Wii</td>\n",
              "      <td>2009.0</td>\n",
              "      <td>Sports</td>\n",
              "      <td>Nintendo</td>\n",
              "      <td>15.61</td>\n",
              "      <td>10.93</td>\n",
              "      <td>3.28</td>\n",
              "      <td>2.95</td>\n",
              "      <td>32.77</td>\n",
              "      <td>80.0</td>\n",
              "      <td>73.0</td>\n",
              "      <td>8</td>\n",
              "      <td>192.0</td>\n",
              "      <td>Nintendo</td>\n",
              "      <td>E</td>\n",
              "    </tr>\n",
              "    <tr>\n",
              "      <th>4</th>\n",
              "      <td>Pokemon Red/Pokemon Blue</td>\n",
              "      <td>GB</td>\n",
              "      <td>1996.0</td>\n",
              "      <td>Role-Playing</td>\n",
              "      <td>Nintendo</td>\n",
              "      <td>11.27</td>\n",
              "      <td>8.89</td>\n",
              "      <td>10.22</td>\n",
              "      <td>1.00</td>\n",
              "      <td>31.37</td>\n",
              "      <td>NaN</td>\n",
              "      <td>NaN</td>\n",
              "      <td>NaN</td>\n",
              "      <td>NaN</td>\n",
              "      <td>NaN</td>\n",
              "      <td>NaN</td>\n",
              "    </tr>\n",
              "  </tbody>\n",
              "</table>\n",
              "</div>\n",
              "      <button class=\"colab-df-convert\" onclick=\"convertToInteractive('df-76052ddc-f187-4d47-8815-44f03fe4d861')\"\n",
              "              title=\"Convert this dataframe to an interactive table.\"\n",
              "              style=\"display:none;\">\n",
              "        \n",
              "  <svg xmlns=\"http://www.w3.org/2000/svg\" height=\"24px\"viewBox=\"0 0 24 24\"\n",
              "       width=\"24px\">\n",
              "    <path d=\"M0 0h24v24H0V0z\" fill=\"none\"/>\n",
              "    <path d=\"M18.56 5.44l.94 2.06.94-2.06 2.06-.94-2.06-.94-.94-2.06-.94 2.06-2.06.94zm-11 1L8.5 8.5l.94-2.06 2.06-.94-2.06-.94L8.5 2.5l-.94 2.06-2.06.94zm10 10l.94 2.06.94-2.06 2.06-.94-2.06-.94-.94-2.06-.94 2.06-2.06.94z\"/><path d=\"M17.41 7.96l-1.37-1.37c-.4-.4-.92-.59-1.43-.59-.52 0-1.04.2-1.43.59L10.3 9.45l-7.72 7.72c-.78.78-.78 2.05 0 2.83L4 21.41c.39.39.9.59 1.41.59.51 0 1.02-.2 1.41-.59l7.78-7.78 2.81-2.81c.8-.78.8-2.07 0-2.86zM5.41 20L4 18.59l7.72-7.72 1.47 1.35L5.41 20z\"/>\n",
              "  </svg>\n",
              "      </button>\n",
              "      \n",
              "  <style>\n",
              "    .colab-df-container {\n",
              "      display:flex;\n",
              "      flex-wrap:wrap;\n",
              "      gap: 12px;\n",
              "    }\n",
              "\n",
              "    .colab-df-convert {\n",
              "      background-color: #E8F0FE;\n",
              "      border: none;\n",
              "      border-radius: 50%;\n",
              "      cursor: pointer;\n",
              "      display: none;\n",
              "      fill: #1967D2;\n",
              "      height: 32px;\n",
              "      padding: 0 0 0 0;\n",
              "      width: 32px;\n",
              "    }\n",
              "\n",
              "    .colab-df-convert:hover {\n",
              "      background-color: #E2EBFA;\n",
              "      box-shadow: 0px 1px 2px rgba(60, 64, 67, 0.3), 0px 1px 3px 1px rgba(60, 64, 67, 0.15);\n",
              "      fill: #174EA6;\n",
              "    }\n",
              "\n",
              "    [theme=dark] .colab-df-convert {\n",
              "      background-color: #3B4455;\n",
              "      fill: #D2E3FC;\n",
              "    }\n",
              "\n",
              "    [theme=dark] .colab-df-convert:hover {\n",
              "      background-color: #434B5C;\n",
              "      box-shadow: 0px 1px 3px 1px rgba(0, 0, 0, 0.15);\n",
              "      filter: drop-shadow(0px 1px 2px rgba(0, 0, 0, 0.3));\n",
              "      fill: #FFFFFF;\n",
              "    }\n",
              "  </style>\n",
              "\n",
              "      <script>\n",
              "        const buttonEl =\n",
              "          document.querySelector('#df-76052ddc-f187-4d47-8815-44f03fe4d861 button.colab-df-convert');\n",
              "        buttonEl.style.display =\n",
              "          google.colab.kernel.accessAllowed ? 'block' : 'none';\n",
              "\n",
              "        async function convertToInteractive(key) {\n",
              "          const element = document.querySelector('#df-76052ddc-f187-4d47-8815-44f03fe4d861');\n",
              "          const dataTable =\n",
              "            await google.colab.kernel.invokeFunction('convertToInteractive',\n",
              "                                                     [key], {});\n",
              "          if (!dataTable) return;\n",
              "\n",
              "          const docLinkHtml = 'Like what you see? Visit the ' +\n",
              "            '<a target=\"_blank\" href=https://colab.research.google.com/notebooks/data_table.ipynb>data table notebook</a>'\n",
              "            + ' to learn more about interactive tables.';\n",
              "          element.innerHTML = '';\n",
              "          dataTable['output_type'] = 'display_data';\n",
              "          await google.colab.output.renderOutput(dataTable, element);\n",
              "          const docLink = document.createElement('div');\n",
              "          docLink.innerHTML = docLinkHtml;\n",
              "          element.appendChild(docLink);\n",
              "        }\n",
              "      </script>\n",
              "    </div>\n",
              "  </div>\n",
              "  "
            ]
          },
          "metadata": {},
          "execution_count": 138
        }
      ]
    },
    {
      "cell_type": "code",
      "source": [
        "# Verifique valores únicos na coluna Publisher\n",
        "\n",
        "gameset['publisher'].unique()"
      ],
      "metadata": {
        "id": "it1ImeCkSYB1",
        "colab": {
          "base_uri": "https://localhost:8080/"
        },
        "outputId": "74ecfe7c-e815-432b-c40d-029e7ef4402b"
      },
      "execution_count": null,
      "outputs": [
        {
          "output_type": "execute_result",
          "data": {
            "text/plain": [
              "array(['Nintendo', 'Microsoft Game Studios', 'Take-Two Interactive',\n",
              "       'Sony Computer Entertainment', 'Activision', 'Ubisoft',\n",
              "       'Bethesda Softworks', 'Electronic Arts', 'Sega', 'SquareSoft',\n",
              "       'Atari', '505 Games', 'Capcom', 'GT Interactive',\n",
              "       'Konami Digital Entertainment', 'Square Enix',\n",
              "       'Sony Computer Entertainment Europe', 'Virgin Interactive',\n",
              "       'LucasArts', 'Warner Bros. Interactive Entertainment',\n",
              "       'Universal Interactive', 'Eidos Interactive', 'RedOctane',\n",
              "       'Vivendi Games', 'Enix Corporation', 'Namco Bandai Games',\n",
              "       'Palcom', 'Hasbro Interactive', 'THQ', 'Fox Interactive',\n",
              "       'Acclaim Entertainment', 'MTV Games', 'Disney Interactive Studios',\n",
              "       nan, 'Codemasters', 'Majesco Entertainment', 'Red Orb', 'Level 5',\n",
              "       'Arena Entertainment', 'Midway Games', 'JVC', 'Deep Silver',\n",
              "       'NCSoft', '989 Studios', 'UEP Systems', 'Parker Bros.', 'Maxis',\n",
              "       'Imagic', 'Tecmo Koei', 'ASCII Entertainment', 'Valve Software',\n",
              "       'Mindscape', 'Infogrames', 'Unknown', 'Square', 'Valve',\n",
              "       'Banpresto', 'Hello Games', 'D3Publisher', 'Activision Value',\n",
              "       'Oxygen Interactive', 'Red Storm Entertainment', 'Video System',\n",
              "       'Global Star', 'Gotham Games', 'Westwood Studios', 'GungHo',\n",
              "       'Crave Entertainment', 'Hudson Soft', 'Coleco',\n",
              "       'Rising Star Games', 'TDK Mediactive', 'ASC Games', 'Accolade',\n",
              "       'Zoo Games', 'Sony Online Entertainment', '3DO', 'Natsume', 'RTL',\n",
              "       'Alchemist', 'Black Label Games', 'SouthPeak Games',\n",
              "       'Focus Home Interactive', 'Ocean', 'Zoo Digital Publishing',\n",
              "       'Psygnosis', 'City Interactive', 'Empire Interactive', 'Success',\n",
              "       'Compile', 'Russel', 'Atlus', 'Mastertronic',\n",
              "       'Slightly Mad Studios', 'Taito', 'Agetec', 'Microprose', 'Play It',\n",
              "       'GSP', 'Tomy Corporation', 'Sammy Corporation', 'Koch Media',\n",
              "       'Game Factory', 'Titus', 'Marvelous Entertainment', 'Genki',\n",
              "       'Mojang', 'CTO SpA', 'TalonSoft', 'Crystal Dynamics',\n",
              "       'Square Enix ', 'mixi, Inc', 'Pinnacle', 'SCi', 'Quelle',\n",
              "       'Rage Software', 'Ubisoft Annecy', 'Interplay', 'Scholastic Inc.',\n",
              "       'Mystique', 'ChunSoft', 'Square EA',\n",
              "       '20th Century Fox Video Games', 'Hudson Entertainment',\n",
              "       'Men-A-Vision', 'Nobilis', 'Avanquest Software',\n",
              "       'Big Ben Interactive', 'Nordic Games', 'Touchstone', 'Spike',\n",
              "       'Nippon Ichi Software', 'Sony Computer Entertainment America',\n",
              "       'Jester Interactive', 'LEGO Media', 'Quest', 'Illusion Softworks',\n",
              "       'Tigervision', 'Rocket Company', 'Metro 3D', 'Mattel Interactive',\n",
              "       'IE Institute', 'Funbox Media', 'Rondomedia', 'Universal Gamex',\n",
              "       'Ghostlight', 'Wizard Video Games',\n",
              "       'BMG Interactive Entertainment', 'PQube', 'Trion Worlds',\n",
              "       'Xseed Games', 'Laguna', 'Takara', 'Ignition Entertainment',\n",
              "       'Kadokawa Shoten', 'Enterbrain', 'Imagineer', 'CPG Products',\n",
              "       'System 3 Arcade Software', 'Aruze Corp', 'Destineer',\n",
              "       'Gamebridge', 'Midas Interactive Entertainment', 'Jaleco',\n",
              "       'Answer Software', 'Pack In Soft', 'XS Games', 'Rebellion',\n",
              "       'Ultravision', 'Harmonix Music Systems', 'Activision Blizzard',\n",
              "       'Xplosiv', 'Wanadoo', 'Telltale Games', 'NovaLogic', 'Epoch',\n",
              "       'BAM! Entertainment', 'GameMill Entertainment',\n",
              "       'Knowledge Adventure', 'Tetris Online', 'Mastiff', 'ESP', 'TYO',\n",
              "       'Telegames', 'Mud Duck Productions', 'Screenlife', 'Pioneer LDC',\n",
              "       'Magical Company', 'Kemco', 'Mentor Interactive',\n",
              "       'Human Entertainment', 'Data Age', 'Electronic Arts Victor',\n",
              "       'Jack of All Games', 'Avanquest', 'Black Bean Games', '989 Sports',\n",
              "       'Takara Tomy', 'Media Rings', 'Elf', 'Starfish', 'Zushi Games',\n",
              "       'Jorudan', 'Destination Software, Inc', 'New',\n",
              "       'Brash Entertainment', 'Kalypso Media', 'ITT Family Games',\n",
              "       'Ackkstudios', 'PopCap Games', 'Starpath Corp.', 'BPS',\n",
              "       'Gathering of Developers', 'NewKidCo', 'Marvelous Interactive',\n",
              "       'Storm City Games', 'CokeM Interactive', 'P2 Games',\n",
              "       'CBS Electronics', 'Home Entertainment Suppliers', 'Magix',\n",
              "       'Arc System Works', 'Angel Studios', 'Wargaming.net', 'Playmates',\n",
              "       'SNK Playmore', 'Hamster Corporation', 'From Software',\n",
              "       'Nippon Columbia', 'Nichibutsu', 'Conspiracy Entertainment',\n",
              "       'Hect', 'Mumbo Jumbo', 'DTP Entertainment',\n",
              "       'Pacific Century Cyber Works', 'Indie Games', 'Liquid Games',\n",
              "       'NEC', 'Axela', 'ArtDink', 'Sunsoft', 'Little Orbit', 'FuRyu',\n",
              "       'Gust', 'SNK', 'NEC Interchannel', 'Nihon Falcom Corporation',\n",
              "       'Xing Entertainment', 'ValuSoft', 'Victor Interactive',\n",
              "       'American Softworks', 'Falcom Corporation', 'Detn8 Games', 'Bomb',\n",
              "       'Nordcurrent', 'Milestone S.r.l.', 'AQ Interactive', 'Sears',\n",
              "       'Seta Corporation', 'On Demand', 'CCP', 'NCS',\n",
              "       'Rebellion Developments', 'Agatsuma Entertainment',\n",
              "       'Gremlin Interactive Ltd', 'Aspyr', 'Compile Heart',\n",
              "       'Culture Brain', 'Mad Catz', 'Shogakukan', 'Merscom LLC',\n",
              "       'JoWood Productions', 'Nippon Telenet', 'TDK Core',\n",
              "       'Kadokawa Games', 'SSI', 'Foreign Media Games', 'Core Design Ltd.',\n",
              "       'bitComposer Games', 'Astragon', 'Asylum Entertainment',\n",
              "       'Performance Designed Products', 'UFO Interactive',\n",
              "       'Essential Games', 'Adeline Software', 'Funcom', 'PlayV',\n",
              "       'Panther Software', 'Blast! Entertainment Ltd',\n",
              "       'Playlogic Game Factory', 'DSI Games', 'Avalon Interactive',\n",
              "       'Game Life', 'Popcorn Arcade', 'Aques', 'System 3', 'Syscom',\n",
              "       'Vir2L Studios', 'Vatical Entertainment', 'Neko Entertainment',\n",
              "       'White Park Bay Software', 'Vic Tokai', 'Media Factory',\n",
              "       'Daedalic', 'Game Arts', 'The Adventure Company', 'EA Games',\n",
              "       'Acquire', 'Broccoli', 'General Entertainment',\n",
              "       'Paradox Interactive', 'Yacht Club Games', 'Imadio',\n",
              "       'Swing! Entertainment', 'Sony Music Entertainment', 'Aqua Plus',\n",
              "       'Excalibur Publishing', 'Hip Interactive', 'Tripwire Interactive',\n",
              "       'DreamCatcher Interactive', 'SCS Software', 'Havas Interactive',\n",
              "       'Sting', 'Idea Factory', 'Telstar', 'U.S. Gold', 'Funsta',\n",
              "       'DreamWorks Interactive', 'Slitherine Software', 'MTO', 'Graffiti',\n",
              "       'Tru Blu Entertainment', 'DHM Interactive', 'Crytek', 'FunSoft',\n",
              "       'Data Design Interactive', 'SPS', 'Moss', 'T&E Soft',\n",
              "       'NDA Productions', 'Bigben Interactive', 'Data East',\n",
              "       'Idea Factory International', 'Time Warner Interactive',\n",
              "       'Gainax Network Systems', 'Daito', 'O3 Entertainment', 'O-Games',\n",
              "       'Gameloft', 'Xicat Interactive', 'Simon & Schuster Interactive',\n",
              "       'Valcon Games', 'PopTop Software', 'TOHO', 'PM Studios',\n",
              "       'Bohemia Interactive', 'Reef Entertainment', '5pb',\n",
              "       'HMH Interactive', 'inXile Entertainment', 'Cave', 'Microids',\n",
              "       'Paon', 'CDV Software Entertainment', 'Micro Cabin', 'GameTek',\n",
              "       'Benesse', 'Type-Moon', 'Enjoy Gaming ltd.', 'Asmik Corp',\n",
              "       'Interplay Productions', 'Asmik Ace Entertainment', 'Image Epoch',\n",
              "       'Phantom EFX', 'Evolved Games', 'responDESIGN',\n",
              "       'Griffin International', 'Culture Publishers', 'Hackberry',\n",
              "       'Hearty Robin', 'Nippon Amuse', 'Origin Systems', 'Seventh Chord',\n",
              "       'Abylight', 'Mitsui', 'Insomniac Games', 'Flight-Plan',\n",
              "       'Milestone', 'Glams', 'Aksys Games', 'Locus', 'Warp',\n",
              "       'Irem Software Engineering', 'Myelin Media',\n",
              "       'Global A Entertainment', 'Alternative Software', 'Mercury Games',\n",
              "       'Sunrise Interactive', 'Elite', 'Evolution Games',\n",
              "       'Daedalic Entertainment', 'Edia', 'Athena', 'Aria', 'Tivola',\n",
              "       'Happinet', 'Tommo', 'Altron', 'Revolution Software',\n",
              "       'Media Works', 'Fortyfive', 'Gamecock', 'Imax', '10TACLE Studios',\n",
              "       'Groove Games', 'Pack-In-Video', 'Crimson Cow', 'iWin', 'Asgard',\n",
              "       'Ecole', 'Yumedia', 'Ascaron Entertainment GmbH', 'HAL Laboratory',\n",
              "       'Phenomedia', 'Grand Prix Games', 'DigiCube', 'Creative Core',\n",
              "       'Kaga Create', 'WayForward Technologies', 'LSP Games',\n",
              "       'ASCII Media Works', '1C Company', 'Coconuts Japan', 'Arika',\n",
              "       'Marvel Entertainment', 'Ertain', 'Prototype', 'Phantagram',\n",
              "       'The Learning Company', 'TechnoSoft', 'MLB.com', 'Vap', 'Misawa',\n",
              "       'Yeti', 'Dusenberry Martin Racing', 'Navarre Corp', 'Pow',\n",
              "       'MediaQuest', 'Team17 Software', 'Max Five', 'Tradewest',\n",
              "       'Comfort', 'Milestone S.r.l', 'Pony Canyon', 'Riverhillsoft',\n",
              "       'Summitsoft', 'Playmore', 'Kool Kizz', 'Monte Christo Multimedia',\n",
              "       'TopWare Interactive', 'Legacy Interactive',\n",
              "       'Cloud Imperium Games Corporation', 'Flashpoint Games',\n",
              "       'CyberFront', 'Alawar Entertainment', 'Societa', 'Interchannel',\n",
              "       'Experience Inc.', 'Sonnet', 'Virtual Play Games', 'Zenrin',\n",
              "       'Iceberg Interactive', 'Ivolgamus', 'MC2 Entertainment', '2D Boy',\n",
              "       'Games Workshop', 'Kando Games', 'Office Create',\n",
              "       'Maximum Family Games', 'Fields', 'Gearbox Software',\n",
              "       'Princess Soft', 'Extreme Entertainment Group', 'Big Fish Games',\n",
              "       'Berkeley', 'Mamba Games', 'Fuji', 'FuRyu Corporation',\n",
              "       'Her Interactive', 'imageepoch Inc.', 'Just Flight', 'Kamui',\n",
              "       'ASK', 'Cygames', 'Introversion Software', '49Games', 'KSS',\n",
              "       'dramatic create', 'TGL', 'KID', 'Quinrose', 'Sold Out', 'Encore',\n",
              "       'G.Rev', 'Sunflowers', 'Headup Games', 'Sweets',\n",
              "       'Kokopeli Digital Studios', 'id Software', 'Nexon', 'BushiRoad',\n",
              "       'Devolver Digital', 'Number None', 'Tryfirst', 'GN Software',\n",
              "       \"Yuke's\", 'Strategy First', 'Lexicon Entertainment',\n",
              "       'Paon Corporation', 'Kids Station', 'Licensed 4U', 'GOA',\n",
              "       '7G//AMES', 'King Records', 'Minato Station',\n",
              "       'Graphsim Entertainment', 'Easy Interactive', 'Gaga',\n",
              "       'Yamasa Entertainment', 'Plenty', 'Views', 'Blue Byte', 'fonfun',\n",
              "       'NetRevo', 'Epic Games', 'Quintet', 'Focus Multimedia',\n",
              "       'Phoenix Games', 'Marvelous Games', 'Dorart', 'Codemasters Online',\n",
              "       'Stainless Games', 'Aerosoft', 'Imageworks', 'Karin Entertainment',\n",
              "       'Technos Japan Corporation', 'Masque Publishing', 'Gakken',\n",
              "       'New World Computing', 'Mirai Shounen', 'Datam Polystar', 'HuneX',\n",
              "       'Visco', 'Saurus', 'Revolution (Japan)', 'Giza10', 'Alvion',\n",
              "       'Giga', 'Mycom', 'Warashi', 'System Soft', 'RED Entertainment',\n",
              "       'Lighthouse Interactive', 'Michaelsoft', 'Media Entertainment',\n",
              "       'Genterprise', 'Interworks Unlimited, Inc.', 'Inti Creates',\n",
              "       'Boost On', 'EON Digital Entertainment', 'Nitroplus', 'Naxat Soft',\n",
              "       'Piacci', 'Paradox Development', 'Otomate',\n",
              "       'Ascaron Entertainment', 'Ongakukan', 'Commseed',\n",
              "       'UIG Entertainment', 'Takuyo', 'Interchannel-Holon',\n",
              "       'Red Flagship'], dtype=object)"
            ]
          },
          "metadata": {},
          "execution_count": 139
        }
      ]
    },
    {
      "cell_type": "code",
      "source": [
        "# Deixe em minúsculo os nomes dos publishers, conte valores únicos e veja se houve alteração"
      ],
      "metadata": {
        "id": "zgVb9oaaTF4r"
      },
      "execution_count": null,
      "outputs": []
    },
    {
      "cell_type": "code",
      "source": [
        "len(gameset['publisher'].unique())"
      ],
      "metadata": {
        "colab": {
          "base_uri": "https://localhost:8080/"
        },
        "id": "Y4Yi-0-DsnfC",
        "outputId": "5e0ea462-5d6a-403d-e81d-142f9fd0f376"
      },
      "execution_count": null,
      "outputs": [
        {
          "output_type": "execute_result",
          "data": {
            "text/plain": [
              "582"
            ]
          },
          "metadata": {},
          "execution_count": 141
        }
      ]
    },
    {
      "cell_type": "code",
      "source": [
        "len(gameset['publisher'].str.lower().unique())"
      ],
      "metadata": {
        "colab": {
          "base_uri": "https://localhost:8080/"
        },
        "id": "e0iX65WptLgW",
        "outputId": "6f4d4e59-9f9b-40e6-e1ba-1aa2f24237f4"
      },
      "execution_count": null,
      "outputs": [
        {
          "output_type": "execute_result",
          "data": {
            "text/plain": [
              "582"
            ]
          },
          "metadata": {},
          "execution_count": 142
        }
      ]
    },
    {
      "cell_type": "code",
      "source": [
        "gameset['publisher']=gameset['publisher'].str.lower()"
      ],
      "metadata": {
        "id": "Iu_HsNtItpsz"
      },
      "execution_count": null,
      "outputs": []
    },
    {
      "cell_type": "code",
      "source": [
        "# Verificando existência de valores duplicados\n",
        "gameset.duplicated().sum()"
      ],
      "metadata": {
        "id": "jtz4LCqHPgd-",
        "colab": {
          "base_uri": "https://localhost:8080/"
        },
        "outputId": "3564f70a-c04d-4c1e-84a6-3212cd1e956f"
      },
      "execution_count": null,
      "outputs": [
        {
          "output_type": "execute_result",
          "data": {
            "text/plain": [
              "0"
            ]
          },
          "metadata": {},
          "execution_count": 144
        }
      ]
    },
    {
      "cell_type": "code",
      "source": [
        "# Verificando existência de valores NAN\n",
        "gameset.isna().sum()"
      ],
      "metadata": {
        "id": "UnnfxqzLPMmc",
        "colab": {
          "base_uri": "https://localhost:8080/"
        },
        "outputId": "cc0e3d4e-8543-4a28-ca5b-9e2283c7803f"
      },
      "execution_count": null,
      "outputs": [
        {
          "output_type": "execute_result",
          "data": {
            "text/plain": [
              "name                  2\n",
              "platform              0\n",
              "year_of_release     269\n",
              "genre                 2\n",
              "publisher            54\n",
              "na_sales              0\n",
              "eu_sales              0\n",
              "jp_sales              0\n",
              "other_sales           0\n",
              "global_sales          0\n",
              "critic_score       8582\n",
              "critic_count       8582\n",
              "user_score         6704\n",
              "user_count         9129\n",
              "developer          6623\n",
              "rating             6769\n",
              "dtype: int64"
            ]
          },
          "metadata": {},
          "execution_count": 145
        }
      ]
    },
    {
      "cell_type": "code",
      "source": [
        "# Verifique distribuições .hist() antes de tratar NaN\n",
        "gameset.hist() ###perguntar"
      ],
      "metadata": {
        "id": "3BoD9-Q-csaU",
        "colab": {
          "base_uri": "https://localhost:8080/",
          "height": 618
        },
        "outputId": "f32d7c70-cb2c-4db9-af39-407402c5983d"
      },
      "execution_count": null,
      "outputs": [
        {
          "output_type": "execute_result",
          "data": {
            "text/plain": [
              "array([[<Axes: title={'center': 'year_of_release'}>,\n",
              "        <Axes: title={'center': 'na_sales'}>,\n",
              "        <Axes: title={'center': 'eu_sales'}>],\n",
              "       [<Axes: title={'center': 'jp_sales'}>,\n",
              "        <Axes: title={'center': 'other_sales'}>,\n",
              "        <Axes: title={'center': 'global_sales'}>],\n",
              "       [<Axes: title={'center': 'critic_score'}>,\n",
              "        <Axes: title={'center': 'critic_count'}>,\n",
              "        <Axes: title={'center': 'user_count'}>]], dtype=object)"
            ]
          },
          "metadata": {},
          "execution_count": 146
        },
        {
          "output_type": "display_data",
          "data": {
            "text/plain": [
              "<Figure size 640x480 with 9 Axes>"
            ],
            "image/png": "[encoded data removed]"
          },
          "metadata": {}
        }
      ]
    },
    {
      "cell_type": "code",
      "source": [
        "# Utilizando média para preencher NaN na coluna critic count\n",
        "nan_media = gameset['critic_count'].fillna(gameset['critic_count'].mean())"
      ],
      "metadata": {
        "id": "eBPY9qCAiEqN"
      },
      "execution_count": null,
      "outputs": []
    },
    {
      "cell_type": "code",
      "source": [
        "# Verificando se houve mudança significativa na distribuição da variável com .hist()\n",
        "gameset['critic_count'].hist()"
      ],
      "metadata": {
        "colab": {
          "base_uri": "https://localhost:8080/",
          "height": 448
        },
        "id": "u2u5PbzrxJTd",
        "outputId": "6d8773d7-ee0c-4d3a-c66e-5b313d26c24f"
      },
      "execution_count": null,
      "outputs": [
        {
          "output_type": "execute_result",
          "data": {
            "text/plain": [
              "<Axes: >"
            ]
          },
          "metadata": {},
          "execution_count": 148
        },
        {
          "output_type": "display_data",
          "data": {
            "text/plain": [
              "<Figure size 640x480 with 1 Axes>"
            ],
            "image/png": "[encoded data removed]"
          },
          "metadata": {}
        }
      ]
    },
    {
      "cell_type": "code",
      "source": [
        "nan_media.hist()"
      ],
      "metadata": {
        "id": "zAcWlPZUgHvm",
        "colab": {
          "base_uri": "https://localhost:8080/",
          "height": 448
        },
        "outputId": "505cc513-df6a-4907-9502-b3e427beb0e1"
      },
      "execution_count": null,
      "outputs": [
        {
          "output_type": "execute_result",
          "data": {
            "text/plain": [
              "<Axes: >"
            ]
          },
          "metadata": {},
          "execution_count": 149
        },
        {
          "output_type": "display_data",
          "data": {
            "text/plain": [
              "<Figure size 640x480 with 1 Axes>"
            ],
            "image/png": "[encoded data removed]"
          },
          "metadata": {}
        }
      ]
    },
    {
      "cell_type": "markdown",
      "source": [
        "OPS! Observe que quando a há muitos valores NaN (nesse caso, aproximadamente 50%), é preferível utilizar outras formas para preencher valores NaN, tais como substituindo por valores interpolados ou procurando valores já existentes na mesma coluna. Importante frisar que depende do tipo de dado a ser preenchido. Caso o dado fosse a temperatura da cidade de João Pessoa durante as manhãs do mês de março, que devem variar entre 28°C e 31°C, utilizar a média não causaria uma distorção."
      ],
      "metadata": {
        "id": "yeUpttRXgoG8"
      }
    },
    {
      "cell_type": "code",
      "source": [
        "# Preenchendo NaN da coluna Critic Score com valores interpolados pelo método linear\n",
        "\n",
        "nan_interpol = gameset['critic_score'].fillna(gameset['critic_score'].interpolate(method='linear'))"
      ],
      "metadata": {
        "id": "NyBjpQ0Fg93d"
      },
      "execution_count": null,
      "outputs": []
    },
    {
      "cell_type": "code",
      "source": [
        "# Verificando distribuição (.hist()) do Critic Score após interpolação\n",
        "gameset['critic_score'].hist()"
      ],
      "metadata": {
        "id": "B2mloFEiiHrT",
        "colab": {
          "base_uri": "https://localhost:8080/"
        },
        "outputId": "8de36cfa-427f-4d90-a88b-91001dd2cfd8"
      },
      "execution_count": null,
      "outputs": [
        {
          "output_type": "execute_result",
          "data": {
            "text/plain": [
              "<Axes: >"
            ]
          },
          "metadata": {},
          "execution_count": 151
        },
        {
          "output_type": "display_data",
          "data": {
            "text/plain": [
              "<Figure size 640x480 with 1 Axes>"
            ],
            "image/png": "[encoded data removed]"
          },
          "metadata": {}
        }
      ]
    },
    {
      "cell_type": "code",
      "source": [
        "nan_interpol.hist()"
      ],
      "metadata": {
        "colab": {
          "base_uri": "https://localhost:8080/"
        },
        "id": "APIsSdzix1bd",
        "outputId": "58e88dc9-0e59-41bd-8669-de49d1d35e23"
      },
      "execution_count": null,
      "outputs": [
        {
          "output_type": "execute_result",
          "data": {
            "text/plain": [
              "<Axes: >"
            ]
          },
          "metadata": {},
          "execution_count": 152
        },
        {
          "output_type": "display_data",
          "data": {
            "text/plain": [
              "<Figure size 640x480 with 1 Axes>"
            ],
            "image/png": "[encoded data removed]"
          },
          "metadata": {}
        }
      ]
    },
    {
      "cell_type": "code",
      "source": [
        "# Preenchendo NaN da coluna Critic Count com valores interpolados k-nn\n",
        "\n",
        "nan_interpol_knn = gameset['critic_count'].fillna(gameset['critic_count'].interpolate(method='nearest'))\n",
        "nan_interpol_knn.hist()"
      ],
      "metadata": {
        "id": "_PQZNv6DjRkQ",
        "colab": {
          "base_uri": "https://localhost:8080/"
        },
        "outputId": "9c9178ad-465c-4ab1-a422-a5944756584a"
      },
      "execution_count": null,
      "outputs": [
        {
          "output_type": "execute_result",
          "data": {
            "text/plain": [
              "<Axes: >"
            ]
          },
          "metadata": {},
          "execution_count": 153
        },
        {
          "output_type": "display_data",
          "data": {
            "text/plain": [
              "<Figure size 640x480 with 1 Axes>"
            ],
            "image/png": "[encoded data removed]"
          },
          "metadata": {}
        }
      ]
    },
    {
      "cell_type": "code",
      "source": [
        "# Agrupando por nome e ano de lançamento\n",
        "nome_ano = gameset.groupby('name')['year_of_release'].mean().dropna()\n",
        "nome_ano"
      ],
      "metadata": {
        "id": "9HBsxjkDMU7F",
        "colab": {
          "base_uri": "https://localhost:8080/"
        },
        "outputId": "ab71fc7a-3747-42b0-bed4-a7000efb6f4f"
      },
      "execution_count": null,
      "outputs": [
        {
          "output_type": "execute_result",
          "data": {
            "text/plain": [
              "name\n",
              " Beyblade Burst                 2016.0\n",
              " Fire Emblem Fates              2015.0\n",
              " Frozen: Olaf's Quest           2013.0\n",
              " Haikyu!! Cross Team Match!     2016.0\n",
              " Tales of Xillia 2              2012.0\n",
              "                                 ...  \n",
              "thinkSMART FAMILY!              2010.0\n",
              "thinkSMART: Chess for Kids      2011.0\n",
              "uDraw Studio                    2010.0\n",
              "uDraw Studio: Instant Artist    2011.0\n",
              "¡Shin Chan Flipa en colores!    2007.0\n",
              "Name: year_of_release, Length: 11429, dtype: float64"
            ]
          },
          "metadata": {},
          "execution_count": 154
        }
      ]
    },
    {
      "cell_type": "code",
      "source": [
        "# Preenchendo NaN no ano de lançamento com .map() no groupby\n",
        "gameset['year_of_release'] = gameset['year_of_release'].fillna(gameset['year_of_release'].map(nome_ano))"
      ],
      "metadata": {
        "id": "7e4PI1Z-QtUX"
      },
      "execution_count": null,
      "outputs": []
    },
    {
      "cell_type": "code",
      "source": [
        "# Agrupando por nome e publisher\n",
        "nome_pub = gameset.groupby('name')['publisher'].unique().dropna()\n",
        "nome_pub"
      ],
      "metadata": {
        "id": "rYvmK8irUAQq",
        "colab": {
          "base_uri": "https://localhost:8080/"
        },
        "outputId": "5b3c5562-0f0a-4a32-8aff-689c6e56ac2f"
      },
      "execution_count": null,
      "outputs": [
        {
          "output_type": "execute_result",
          "data": {
            "text/plain": [
              "name\n",
              " Beyblade Burst                                      [furyu]\n",
              " Fire Emblem Fates                                [nintendo]\n",
              " Frozen: Olaf's Quest           [disney interactive studios]\n",
              " Haikyu!! Cross Team Match!             [namco bandai games]\n",
              " Tales of Xillia 2                      [namco bandai games]\n",
              "                                            ...             \n",
              "thinkSMART: Chess for Kids              [mentor interactive]\n",
              "uDraw Studio                                           [thq]\n",
              "uDraw Studio: Instant Artist                           [thq]\n",
              "wwe Smackdown vs. Raw 2006                             [nan]\n",
              "¡Shin Chan Flipa en colores!                     [505 games]\n",
              "Name: publisher, Length: 11562, dtype: object"
            ]
          },
          "metadata": {},
          "execution_count": 157
        }
      ]
    },
    {
      "cell_type": "code",
      "source": [
        "# Preenchendo NaN no publisher com .map()\n",
        "gameset['publisher'] = gameset['publisher'].fillna(gameset['publisher'].map(nome_pub))"
      ],
      "metadata": {
        "id": "7tvLOT0lUuBU"
      },
      "execution_count": null,
      "outputs": []
    }
  ]
}